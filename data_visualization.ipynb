{
 "cells": [
  {
   "cell_type": "code",
   "execution_count": 2,
   "metadata": {},
   "outputs": [],
   "source": [
    "import pandas as pd\n",
    "import pyarrow as pa\n",
    "import pyarrow.parquet as pq"
   ]
  },
  {
   "cell_type": "code",
   "execution_count": 3,
   "metadata": {},
   "outputs": [
    {
     "name": "stdout",
     "output_type": "stream",
     "text": [
      "Length of the data: 757\n"
     ]
    },
    {
     "data": {
      "text/html": [
       "<div>\n",
       "<style scoped>\n",
       "    .dataframe tbody tr th:only-of-type {\n",
       "        vertical-align: middle;\n",
       "    }\n",
       "\n",
       "    .dataframe tbody tr th {\n",
       "        vertical-align: top;\n",
       "    }\n",
       "\n",
       "    .dataframe thead th {\n",
       "        text-align: right;\n",
       "    }\n",
       "</style>\n",
       "<table border=\"1\" class=\"dataframe\">\n",
       "  <thead>\n",
       "    <tr style=\"text-align: right;\">\n",
       "      <th></th>\n",
       "      <th>file_id</th>\n",
       "      <th>reaction_id</th>\n",
       "      <th>notes</th>\n",
       "      <th>snippet</th>\n",
       "    </tr>\n",
       "  </thead>\n",
       "  <tbody>\n",
       "    <tr>\n",
       "      <th>0</th>\n",
       "      <td>R-HSA-9032845.sbml</td>\n",
       "      <td>reaction_9033284</td>\n",
       "      <td>Upon binding to NTRK2 (TRKB), TIAM1 is phospho...</td>\n",
       "      <td>&lt;reaction compartment=\"compartment_876\" fast=\"...</td>\n",
       "    </tr>\n",
       "    <tr>\n",
       "      <th>1</th>\n",
       "      <td>R-HSA-9032845.sbml</td>\n",
       "      <td>reaction_9032841</td>\n",
       "      <td>BDNF-activated NTRK2 binds CDK5 indirectly, by...</td>\n",
       "      <td>&lt;reaction compartment=\"compartment_876\" fast=\"...</td>\n",
       "    </tr>\n",
       "    <tr>\n",
       "      <th>2</th>\n",
       "      <td>R-HSA-9032845.sbml</td>\n",
       "      <td>reaction_9032863</td>\n",
       "      <td>CDK5 phosphorylates NTRK2 (TRKB) on serine res...</td>\n",
       "      <td>&lt;reaction compartment=\"compartment_876\" fast=\"...</td>\n",
       "    </tr>\n",
       "    <tr>\n",
       "      <th>3</th>\n",
       "      <td>R-HSA-9032845.sbml</td>\n",
       "      <td>reaction_9032854</td>\n",
       "      <td>BDNF-activated NTRK2 (TRKB) phosphorylates CDK...</td>\n",
       "      <td>&lt;reaction compartment=\"compartment_876\" fast=\"...</td>\n",
       "    </tr>\n",
       "    <tr>\n",
       "      <th>4</th>\n",
       "      <td>R-HSA-9032845.sbml</td>\n",
       "      <td>reaction_9033292</td>\n",
       "      <td>TIAM1, activated by binding to CDK5-phosphoryl...</td>\n",
       "      <td>&lt;reaction compartment=\"compartment_876\" fast=\"...</td>\n",
       "    </tr>\n",
       "  </tbody>\n",
       "</table>\n",
       "</div>"
      ],
      "text/plain": [
       "              file_id       reaction_id  \\\n",
       "0  R-HSA-9032845.sbml  reaction_9033284   \n",
       "1  R-HSA-9032845.sbml  reaction_9032841   \n",
       "2  R-HSA-9032845.sbml  reaction_9032863   \n",
       "3  R-HSA-9032845.sbml  reaction_9032854   \n",
       "4  R-HSA-9032845.sbml  reaction_9033292   \n",
       "\n",
       "                                               notes  \\\n",
       "0  Upon binding to NTRK2 (TRKB), TIAM1 is phospho...   \n",
       "1  BDNF-activated NTRK2 binds CDK5 indirectly, by...   \n",
       "2  CDK5 phosphorylates NTRK2 (TRKB) on serine res...   \n",
       "3  BDNF-activated NTRK2 (TRKB) phosphorylates CDK...   \n",
       "4  TIAM1, activated by binding to CDK5-phosphoryl...   \n",
       "\n",
       "                                             snippet  \n",
       "0  <reaction compartment=\"compartment_876\" fast=\"...  \n",
       "1  <reaction compartment=\"compartment_876\" fast=\"...  \n",
       "2  <reaction compartment=\"compartment_876\" fast=\"...  \n",
       "3  <reaction compartment=\"compartment_876\" fast=\"...  \n",
       "4  <reaction compartment=\"compartment_876\" fast=\"...  "
      ]
     },
     "execution_count": 3,
     "metadata": {},
     "output_type": "execute_result"
    }
   ],
   "source": [
    "df = pd.read_parquet(\"./reactions.parquet\")\n",
    "print(\"Length of the data:\" , len(df))\n",
    "df.head(5)"
   ]
  },
  {
   "cell_type": "code",
   "execution_count": 7,
   "metadata": {},
   "outputs": [
    {
     "data": {
      "text/plain": [
       "file_id\n",
       "R-HSA-442755.sbml     71\n",
       "R-HSA-5619507.sbml    43\n",
       "R-HSA-5617472.sbml    43\n",
       "R-HSA-174143.sbml     40\n",
       "R-HSA-1592389.sbml    27\n",
       "                      ..\n",
       "R-HSA-2978092.sbml     1\n",
       "R-HSA-9717264.sbml     1\n",
       "R-HSA-9687136.sbml     1\n",
       "R-HSA-5467340.sbml     1\n",
       "R-HSA-9916722.sbml     1\n",
       "Name: count, Length: 100, dtype: int64"
      ]
     },
     "execution_count": 7,
     "metadata": {},
     "output_type": "execute_result"
    }
   ],
   "source": [
    "df['file_id'].value_counts()"
   ]
  },
  {
   "cell_type": "code",
   "execution_count": 4,
   "metadata": {},
   "outputs": [
    {
     "name": "stdout",
     "output_type": "stream",
     "text": [
      "<reaction compartment=\"compartment_876\" fast=\"false\" id=\"reaction_9032841\" metaid=\"metaid_19\" name=\"Activated NTRK2 binds CDK5\" reversible=\"false\">\n",
      "        <listOfReactants>\n",
      "          <speciesReference constant=\"true\" id=\"speciesreference_9032841_input_421107\" sboTerm=\"SBO:0000010\" species=\"species_421107\" stoichiometry=\"1\" />\n",
      "          <speciesReference constant=\"true\" id=\"speciesreference_9032841_input_9026465\" sboTerm=\"SBO:0000010\" species=\"species_9026465\" stoichiometry=\"1\" />\n",
      "        </listOfReactants>\n",
      "        <listOfProducts>\n",
      "          <speciesReference constant=\"true\" id=\"speciesreference_9032841_output_9032842\" sboTerm=\"SBO:0000011\" species=\"species_9032842\" stoichiometry=\"1\" />\n",
      "        </listOfProducts>\n",
      "      </reaction>\n",
      "      \n"
     ]
    }
   ],
   "source": [
    "print(df['snippet'].iloc[1])\n"
   ]
  },
  {
   "cell_type": "code",
   "execution_count": 5,
   "metadata": {},
   "outputs": [
    {
     "name": "stdout",
     "output_type": "stream",
     "text": [
      "BDNF-activated NTRK2 binds CDK5 indirectly, by interacting with p35, a non-cyclin activator of CDK5 which forms a complex with CDK5 (Cheung et al. 2007).\n"
     ]
    }
   ],
   "source": [
    "print(df['notes'].iloc[1])"
   ]
  },
  {
   "cell_type": "code",
   "execution_count": 6,
   "metadata": {},
   "outputs": [
    {
     "name": "stdout",
     "output_type": "stream",
     "text": [
      "CDK5 phosphorylates NTRK2 (TRKB) on serine residue S479 (corresponds to S478 in mouse and rat Ntrk2). CDK5-mediated phosphorylation does not affect NTRK2-mediated activation of RAS, PLCgamma or PI3K signaling (Cheung et al. 2007, Lai et al. 2012). It was originally suggested that S479 phosphorylation was needed for NTRK2-mediated activation of CDC42, which plays a role in dendritic growth (Cheung et al. 2007), but the involvement of CDC42 was later disputed (Lai et al. 2012).CDK5 activated by chemical long-term potentiation, independently of BDNF and NTRK2, can phosphorylate intracellular NTRK2 at S479 and promote its insertion into plasma membrane (Zhao et al. 2009), but S479 phosphorylation does not significantly affect NTRK2 localization in vivo (Lai et al. 2012).\n"
     ]
    }
   ],
   "source": [
    "print(df['notes'].iloc[2])\n"
   ]
  },
  {
   "cell_type": "code",
   "execution_count": 7,
   "metadata": {},
   "outputs": [
    {
     "name": "stdout",
     "output_type": "stream",
     "text": [
      "BDNF-activated NTRK2 (TRKB) phosphorylates CDK5 on tyrosine residue Y15, thus increasing CDK5 catalytic activity (Cheung et al. 2007).\n"
     ]
    }
   ],
   "source": [
    "print(df['notes'].iloc[3])"
   ]
  },
  {
   "cell_type": "code",
   "execution_count": 10,
   "metadata": {},
   "outputs": [
    {
     "name": "stdout",
     "output_type": "stream",
     "text": [
      "              ID                                  Pathway_Name       Species\n",
      "0   R-HSA-164843                        2-LTR circle formation  Homo sapiens\n",
      "1  R-HSA-9909438   3-Methylcrotonyl-CoA carboxylase deficiency  Homo sapiens\n",
      "2  R-HSA-9916722  3-hydroxyisobutyryl-CoA hydrolase deficiency  Homo sapiens\n",
      "3  R-HSA-9914274                   3-methylglutaconic aciduria  Homo sapiens\n",
      "4    R-HSA-73843    5-Phosphoribose 1-diphosphate biosynthesis  Homo sapiens\n"
     ]
    }
   ],
   "source": [
    "with open('./complete_list_of_pathways.txt', 'r') as file:\n",
    "    pathways = file.read().splitlines()\n",
    "df = pd.DataFrame([line.split('\\t') for line in pathways], columns=['ID', 'Pathway_Name', 'Species'])\n",
    "df_human = df[df['Species']=='Homo sapiens'].reset_index(drop=True)\n",
    "print(df_human.head(5))\n",
    "\n",
    "id_list = list(df_human['ID'])\n"
   ]
  }
 ],
 "metadata": {
  "kernelspec": {
   "display_name": ".tesivenv",
   "language": "python",
   "name": "python3"
  },
  "language_info": {
   "codemirror_mode": {
    "name": "ipython",
    "version": 3
   },
   "file_extension": ".py",
   "mimetype": "text/x-python",
   "name": "python",
   "nbconvert_exporter": "python",
   "pygments_lexer": "ipython3",
   "version": "3.13.0"
  }
 },
 "nbformat": 4,
 "nbformat_minor": 2
}
